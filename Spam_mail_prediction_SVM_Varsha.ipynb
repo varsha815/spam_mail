{
  "nbformat": 4,
  "nbformat_minor": 0,
  "metadata": {
    "colab": {
      "provenance": [],
      "collapsed_sections": []
    },
    "kernelspec": {
      "name": "python3",
      "display_name": "Python 3"
    },
    "language_info": {
      "name": "python"
    }
  },
  "cells": [
    {
      "cell_type": "markdown",
      "source": [
        "Problem Statement: Spam mail predictino using Support Vector Mahcine(SVM)\n",
        "\n",
        "Spam mail: Malicious mails, intended to harm financially or sometimes for personal benefits.\n",
        "\n",
        "Ham mail: Advertisements, promotions, not intended to harm.\n",
        "\n",
        "## Flow chart\n",
        "\n",
        "Data(spam/ham mail) => Data pre processing => Feature extraction => Train Test Split => SVM model => Trained SVM Model => Prediction of new mail\n",
        "\n",
        "Download the dataset: https://www.kaggle.com/datasets/uciml/sms-spam-collection-dataset?resource=download\n",
        "* The above mentioned dataset has some error in it, I used the same dataset from the github. See github link in 2nd codecell.\n",
        "\n",
        "You need to uplaod the dataset on colab"
      ],
      "metadata": {
        "id": "29SfqJssA7vr"
      }
    },
    {
      "cell_type": "markdown",
      "source": [
        "Import Libraries"
      ],
      "metadata": {
        "id": "KYFEJ8MvDCHO"
      }
    },
    {
      "cell_type": "code",
      "execution_count": 10,
      "metadata": {
        "id": "_WkBYkhuArge"
      },
      "outputs": [],
      "source": [
        "import numpy as np\n",
        "import pandas as pd\n",
        "from sklearn.model_selection import train_test_split\n",
        "from sklearn.feature_extraction.text import TfidfVectorizer\n",
        "from sklearn.svm import LinearSVC\n",
        "from sklearn.metrics import accuracy_score"
      ]
    },
    {
      "cell_type": "markdown",
      "source": [
        "Data Preprocessing"
      ],
      "metadata": {
        "id": "fvcUiWLjDI26"
      }
    },
    {
      "cell_type": "code",
      "source": [
        "# download the dataset\n",
        "\n",
        "!wget https://raw.githubusercontent.com/the-fang/Spam-mail-filtering/master/spamham.csv"
      ],
      "metadata": {
        "colab": {
          "base_uri": "https://localhost:8080/"
        },
        "id": "KmoZzIybEFq8",
        "outputId": "62ef2344-9411-4af8-fe8b-63b7565215f2"
      },
      "execution_count": 11,
      "outputs": [
        {
          "output_type": "stream",
          "name": "stdout",
          "text": [
            "--2022-11-05 13:56:54--  https://raw.githubusercontent.com/the-fang/Spam-mail-filtering/master/spamham.csv\n",
            "Resolving raw.githubusercontent.com (raw.githubusercontent.com)... 185.199.108.133, 185.199.109.133, 185.199.110.133, ...\n",
            "Connecting to raw.githubusercontent.com (raw.githubusercontent.com)|185.199.108.133|:443... connected.\n",
            "HTTP request sent, awaiting response... 200 OK\n",
            "Length: 485702 (474K) [text/plain]\n",
            "Saving to: ‘spamham.csv.1’\n",
            "\n",
            "\rspamham.csv.1         0%[                    ]       0  --.-KB/s               \rspamham.csv.1       100%[===================>] 474.32K  --.-KB/s    in 0.04s   \n",
            "\n",
            "2022-11-05 13:56:54 (13.1 MB/s) - ‘spamham.csv.1’ saved [485702/485702]\n",
            "\n"
          ]
        }
      ]
    },
    {
      "cell_type": "code",
      "source": [
        "# load the dataset to pandas data frame\n",
        "\n",
        "raw_mail_data = pd.read_csv('spamham.csv')"
      ],
      "metadata": {
        "id": "NrNyZlu0C5ro"
      },
      "execution_count": 12,
      "outputs": []
    },
    {
      "cell_type": "code",
      "source": [
        "# replace null values with a null string\n",
        "\n",
        "mail_data = raw_mail_data.where((pd.notnull(raw_mail_data)), '')"
      ],
      "metadata": {
        "id": "4vtMO86jDXDr"
      },
      "execution_count": 13,
      "outputs": []
    },
    {
      "cell_type": "code",
      "source": [
        "# check shape of the dataset\n",
        "\n",
        "mail_data.shape"
      ],
      "metadata": {
        "colab": {
          "base_uri": "https://localhost:8080/"
        },
        "id": "6dXjYTl4EejF",
        "outputId": "eccda250-fd97-49bc-a64d-5298e648fb41"
      },
      "execution_count": 14,
      "outputs": [
        {
          "output_type": "execute_result",
          "data": {
            "text/plain": [
              "(5572, 2)"
            ]
          },
          "metadata": {},
          "execution_count": 14
        }
      ]
    },
    {
      "cell_type": "code",
      "source": [
        "# sample of dataset\n",
        "\n",
        "mail_data.head"
      ],
      "metadata": {
        "colab": {
          "base_uri": "https://localhost:8080/"
        },
        "id": "-AfJG092EsX9",
        "outputId": "852680e6-9783-4b89-f24d-626588200e7e"
      },
      "execution_count": 15,
      "outputs": [
        {
          "output_type": "execute_result",
          "data": {
            "text/plain": [
              "<bound method NDFrame.head of      Category                                            Message\n",
              "0         ham  Go until jurong point, crazy.. Available only ...\n",
              "1         ham                      Ok lar... Joking wif u oni...\n",
              "2        spam  Free entry in 2 a wkly comp to win FA Cup fina...\n",
              "3         ham  U dun say so early hor... U c already then say...\n",
              "4         ham  Nah I don't think he goes to usf, he lives aro...\n",
              "...       ...                                                ...\n",
              "5567     spam  This is the 2nd time we have tried 2 contact u...\n",
              "5568      ham               Will ü b going to esplanade fr home?\n",
              "5569      ham  Pity, * was in mood for that. So...any other s...\n",
              "5570      ham  The guy did some bitching but I acted like i'd...\n",
              "5571      ham                         Rofl. Its true to its name\n",
              "\n",
              "[5572 rows x 2 columns]>"
            ]
          },
          "metadata": {},
          "execution_count": 15
        }
      ]
    },
    {
      "cell_type": "code",
      "source": [
        "# label spam mail as 0, non-spam (ham) mail as 1\n",
        "\n",
        "mail_data.loc[mail_data['Category'] == 'spam', 'Category',] = 0\n",
        "mail_data.loc[mail_data['Category'] == 'ham', 'Category',] = 1"
      ],
      "metadata": {
        "id": "Mnk214Q5E2D8"
      },
      "execution_count": 16,
      "outputs": []
    },
    {
      "cell_type": "code",
      "source": [
        "# separate the data as text and label, X --> text, Y --> label\n",
        "\n",
        "X = mail_data['Message']\n",
        "Y = mail_data['Category']"
      ],
      "metadata": {
        "id": "dmZoxCaqFcX2"
      },
      "execution_count": 17,
      "outputs": []
    },
    {
      "cell_type": "code",
      "source": [
        "print(X)\n",
        "print('...................')\n",
        "print(Y)"
      ],
      "metadata": {
        "colab": {
          "base_uri": "https://localhost:8080/"
        },
        "id": "xjqzLZlMFqfS",
        "outputId": "2208cf32-569f-432c-b5a1-eb18dbf3618b"
      },
      "execution_count": 18,
      "outputs": [
        {
          "output_type": "stream",
          "name": "stdout",
          "text": [
            "0       Go until jurong point, crazy.. Available only ...\n",
            "1                           Ok lar... Joking wif u oni...\n",
            "2       Free entry in 2 a wkly comp to win FA Cup fina...\n",
            "3       U dun say so early hor... U c already then say...\n",
            "4       Nah I don't think he goes to usf, he lives aro...\n",
            "                              ...                        \n",
            "5567    This is the 2nd time we have tried 2 contact u...\n",
            "5568                 Will ü b going to esplanade fr home?\n",
            "5569    Pity, * was in mood for that. So...any other s...\n",
            "5570    The guy did some bitching but I acted like i'd...\n",
            "5571                           Rofl. Its true to its name\n",
            "Name: Message, Length: 5572, dtype: object\n",
            "...................\n",
            "0       1\n",
            "1       1\n",
            "2       0\n",
            "3       1\n",
            "4       1\n",
            "       ..\n",
            "5567    0\n",
            "5568    1\n",
            "5569    1\n",
            "5570    1\n",
            "5571    1\n",
            "Name: Category, Length: 5572, dtype: object\n"
          ]
        }
      ]
    },
    {
      "cell_type": "markdown",
      "source": [
        "Train Test Split"
      ],
      "metadata": {
        "id": "zzz-Lx5BGRc_"
      }
    },
    {
      "cell_type": "code",
      "source": [
        "X_train, X_test, Y_train, Y_test = train_test_split(X, Y, train_size=0.8, test_size=0.2, random_state=3)"
      ],
      "metadata": {
        "id": "oqrZidK6FxoV"
      },
      "execution_count": 19,
      "outputs": []
    },
    {
      "cell_type": "markdown",
      "source": [
        "Feature Extraction: transform the text data to feature vectors that can be used as input to SVM model using TfidfVectorizer"
      ],
      "metadata": {
        "id": "INdlxxcDGUSn"
      }
    },
    {
      "cell_type": "code",
      "source": [
        "# convert the text to lower case letters\n",
        "\n",
        "feature_extraction = TfidfVectorizer(min_df=1, stop_words='english', lowercase='True')\n",
        "X_train_features = feature_extraction.fit_transform(X_train)\n",
        "X_test_features = feature_extraction.transform(X_test)"
      ],
      "metadata": {
        "id": "ReoKe3FaGMgf"
      },
      "execution_count": 20,
      "outputs": []
    },
    {
      "cell_type": "code",
      "source": [
        "# convert Y_train and Y_test values as integers\n",
        "\n",
        "Y_train = Y_train.astype('int')\n",
        "Y_test = Y_test.astype('int')"
      ],
      "metadata": {
        "id": "XuAKE87kG__M"
      },
      "execution_count": 21,
      "outputs": []
    },
    {
      "cell_type": "markdown",
      "source": [
        "Training the model --> **Support Vector Machine**"
      ],
      "metadata": {
        "id": "fiSQE3vnHgVh"
      }
    },
    {
      "cell_type": "code",
      "source": [
        "# train the SVM model with training data\n",
        "\n",
        "model = LinearSVC()\n",
        "model.fit(X_train_features, Y_train)"
      ],
      "metadata": {
        "colab": {
          "base_uri": "https://localhost:8080/"
        },
        "id": "zKjFEBpoHM7i",
        "outputId": "8bcee815-b845-4e80-be1b-14c49bd0ae8b"
      },
      "execution_count": 22,
      "outputs": [
        {
          "output_type": "execute_result",
          "data": {
            "text/plain": [
              "LinearSVC()"
            ]
          },
          "metadata": {},
          "execution_count": 22
        }
      ]
    },
    {
      "cell_type": "markdown",
      "source": [
        "Evaluation of model"
      ],
      "metadata": {
        "id": "6pKRisl9H0t4"
      }
    },
    {
      "cell_type": "code",
      "source": [
        "# prediction on training data\n",
        "prediciton_on_training_data = model.predict(X_train_features)\n",
        "accuracy_on_training_data = accuracy_score(Y_train, prediciton_on_training_data)\n",
        "print(\"Accuracy on training data: \", accuracy_on_training_data)"
      ],
      "metadata": {
        "colab": {
          "base_uri": "https://localhost:8080/"
        },
        "id": "kmQtYVRZHwry",
        "outputId": "2d6e60b0-2d6f-4738-e93a-2a1085697a0c"
      },
      "execution_count": 25,
      "outputs": [
        {
          "output_type": "stream",
          "name": "stdout",
          "text": [
            "Accuracy on training data:  0.9993269015032533\n"
          ]
        }
      ]
    },
    {
      "cell_type": "code",
      "source": [
        "# prediction on test data\n",
        "\n",
        "prediction_on_test_data = model.predict(X_test_features)\n",
        "accuracy_on_test_data = accuracy_score(Y_test, prediction_on_test_data)"
      ],
      "metadata": {
        "id": "sMoDJHJeIOD7"
      },
      "execution_count": 26,
      "outputs": []
    },
    {
      "cell_type": "markdown",
      "source": [
        "Prediction on new mail"
      ],
      "metadata": {
        "id": "Aa2D_oAiJFQU"
      }
    },
    {
      "cell_type": "code",
      "source": [
        "input_mail = ['URGENT! You have won a 1 week FREE membership in our å£100,000 Prize Jackpot! Txt the word: CLAIM to No: 81010 T&C www.dbuk.net LCCLTD POBOX 4403LDNW1A7RW18']"
      ],
      "metadata": {
        "id": "e0Z2YKQKJCSW"
      },
      "execution_count": 27,
      "outputs": []
    },
    {
      "cell_type": "code",
      "source": [
        "input_mail = ['For fear of fainting with the of all that housework you just did? Quick have a cuppa']"
      ],
      "metadata": {
        "id": "E9vzzqteKFVY"
      },
      "execution_count": 31,
      "outputs": []
    },
    {
      "cell_type": "code",
      "source": [
        "# convert text to feature vectors\n",
        "\n",
        "input_mail_features = feature_extraction.transform(input_mail)"
      ],
      "metadata": {
        "id": "dvDytdAhJkE0"
      },
      "execution_count": 32,
      "outputs": []
    },
    {
      "cell_type": "code",
      "source": [
        "# making predictions\n",
        "\n",
        "prediction = model.predict(input_mail_features)\n",
        "\n",
        "if(prediction[0] == 1):\n",
        "  print(\"Ham Mail\")\n",
        "else:\n",
        "  print(\"Spam Mail\")"
      ],
      "metadata": {
        "colab": {
          "base_uri": "https://localhost:8080/"
        },
        "id": "zpa180XyJknP",
        "outputId": "9fab7c97-eb41-4bc8-9776-95d92866a271"
      },
      "execution_count": 33,
      "outputs": [
        {
          "output_type": "stream",
          "name": "stdout",
          "text": [
            "Ham Mail\n"
          ]
        }
      ]
    },
    {
      "cell_type": "code",
      "source": [],
      "metadata": {
        "id": "b6oEi2Y8Jre-"
      },
      "execution_count": null,
      "outputs": []
    }
  ]
}